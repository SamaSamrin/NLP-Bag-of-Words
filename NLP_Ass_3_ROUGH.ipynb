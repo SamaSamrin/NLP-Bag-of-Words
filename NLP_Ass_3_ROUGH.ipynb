{
  "nbformat": 4,
  "nbformat_minor": 0,
  "metadata": {
    "colab": {
      "provenance": [],
      "authorship_tag": "ABX9TyPwUIGEGOap0pV0ywr1pE03",
      "include_colab_link": true
    },
    "kernelspec": {
      "name": "python3",
      "display_name": "Python 3"
    },
    "language_info": {
      "name": "python"
    }
  },
  "cells": [
    {
      "cell_type": "markdown",
      "metadata": {
        "id": "view-in-github",
        "colab_type": "text"
      },
      "source": [
        "<a href=\"https://colab.research.google.com/github/SamaSamrin/NLP-Bag-of-Words/blob/main/NLP_Ass_3_ROUGH.ipynb\" target=\"_parent\"><img src=\"https://colab.research.google.com/assets/colab-badge.svg\" alt=\"Open In Colab\"/></a>"
      ]
    },
    {
      "cell_type": "code",
      "execution_count": null,
      "metadata": {
        "id": "CM65485NeEn7"
      },
      "outputs": [],
      "source": [
        "import numpy as np\n",
        "from collections import defaultdict, Counter\n",
        "from sklearn.feature_extraction.text import CountVectorizer, TfidfTransformer\n",
        "from typing import List\n",
        "#import re"
      ]
    },
    {
      "cell_type": "code",
      "source": [
        "ID = \"1191609\"\n",
        "NAME = \"Sama Samrin\""
      ],
      "metadata": {
        "id": "dvATSIm4efTb"
      },
      "execution_count": null,
      "outputs": []
    },
    {
      "cell_type": "code",
      "source": [
        "class CustomBagOfWords:\n",
        "    \n",
        "    def __init__(self, data: List[List[str]]):\n",
        "        #data is a list of lists which consists of words. For example = [[\"it\", \"consist\", \"of\", \"words\"]]\n",
        "        self.data = data \n",
        "        #Map to store words to indexes in the vocab\n",
        "        self.word_to_index = {}\n",
        "        #Vocab stores all the unique words in the dataset.\n",
        "        self.vocab = set()\n",
        "    \n",
        "    def _build_vocab(self):\n",
        "        \"\"\"Method to build vocabulary. Vocabulary is a list of unique words in the dataset and it is alphabetically sorted. \n",
        "        Hint: Use the self.vocab to store unique words\n",
        "        Note: Include only words whose length is >= 2\n",
        "        \"\"\"\n",
        "        corpus = self.data\n",
        "        words = set()\n",
        "        #print(\"corpus : \", corpus)\n",
        "\n",
        "        for i in range(len(corpus)):\n",
        "          #print(\"i: \", i)\n",
        "          for j in range(len(corpus[i])):\n",
        "            x = corpus[i][j-1].split(\" \")\n",
        "            for k in range(len(x)):\n",
        "              if x[k] not in words and len(x[k])>=2:\n",
        "                words.add(x[k])\n",
        "\n",
        "        #print(words)\n",
        "        self.vocab = words\n",
        "        #Implement your logic above this line\n",
        "        #Do not modify the below line\n",
        "        self.vocab = sorted(list(self.vocab))\n",
        "    \n",
        "    def create_index_map(self):\n",
        "        \"\"\"Method to map every word to its index in the vocabulary\n",
        "        Hint: Iterate over the vocabulary and store them in word_to_index\n",
        "        \"\"\"\n",
        "        #Implement the logic below this line\n",
        "        words = self.vocab\n",
        "        word_to_index = dict.fromkeys(words)\n",
        "        count = 0\n",
        "\n",
        "        for i in words:\n",
        "          word_to_index[i] = count\n",
        "          count +=1\n",
        "          #print(i, count-1)\n",
        "        #print(word_to_index)\n",
        "\n",
        "        self.word_to_index = word_to_index\n",
        "    \n",
        "    def bow(self, input_sent: List[str]) -> np.ndarray:\n",
        "        \"\"\"Method which accepts input_sent of the form : [\"is\", \"this\", \"a\", \"sent\"].\n",
        "        Task:\n",
        "            Implement the bag of words approach for the above input. \n",
        "            This function should return a vector of counts for the given inputs.\n",
        "            The output shape of the vector should be 1 x len(self.vocab)\n",
        "            The output should be a numpy array\n",
        "            Example:\n",
        "                length of vocabulary = 10\n",
        "                input_sent = [\"is\", \"this\", \"a\", \"sent\"]\n",
        "                The method should return a vector of shape 1 x 10.\n",
        "        \"\"\"\n",
        "        words = self.vocab\n",
        "        #print(words)\n",
        "        vector_shape = (1, len(words))\n",
        "        #print(\"vector shape =\", vector_shape)\n",
        "        vector = np.zeros(vector_shape, dtype=int)\n",
        "        #print(vector)\n",
        "\n",
        "        #input_sent = np.array([\"is\", \"this\", \"a\", \"sent\"])\n",
        "        #print(\"input sent = \", input_sent)\n",
        "\n",
        "        for i in input_sent:\n",
        "          #print(\"i =\", i)\n",
        "          if i not in words:\n",
        "            input_index = np.where(input_sent == i)\n",
        "            #print(\"OOV error with the word: *\", i, \"* at \", input_index[0])\n",
        "          elif i in word_to_index:\n",
        "            input_index = np.where(input_sent == i)\n",
        "            #print(i, \"found at input index =\", input_index)\n",
        "            indx = self.word_to_index[i] #getting index of i (word of input_sent) from our index map\n",
        "            #print(\"the word is mapped at indx =\", indx) \n",
        "            #print(\"vector shape = \", vector.shape)\n",
        "            #print(\"inside if\", \"vector[0][indx] =\", vector[0][indx])\n",
        "            vector[0][indx] += 1\n",
        "\n",
        "        #print(vector)\n",
        "        vector = vector[0]\n",
        "        return vector\n",
        "        pass\n",
        "    \n",
        "    def create_vector(self) -> np.ndarray:\n",
        "        \"\"\"Method iterates over the whole dataset and creates the bag of words vector of shape:  len(self.data) x len(self.vocab)\"\"\"\n",
        "        #Do not modify this function\n",
        "        self._build_vocab()\n",
        "        self.create_index_map()\n",
        "        vector = []\n",
        "        for sent in self.data:\n",
        "            sent_vector = self.bow(sent)\n",
        "            vector.append(sent_vector)\n",
        "        vector = np.array(vector)\n",
        "        return vector"
      ],
      "metadata": {
        "id": "xETC2zELeiTz"
      },
      "execution_count": null,
      "outputs": []
    },
    {
      "cell_type": "markdown",
      "source": [
        "# **My Tests**"
      ],
      "metadata": {
        "id": "HcTr2HGmHhpf"
      }
    },
    {
      "cell_type": "code",
      "source": [
        "corpus = [[\"this\", \"is\", \"a\", \"document\"], [\"this\", \"is\", \"a\", \"processed\", \"document\"], [\"is\", \"this\", \"a\", \"document\"], [\"this\", \"is\", \"not\", \"a\", \"document\"]]\n",
        "#corpus = [[\"my\", \"name\", \"is\", \"Orpa\"], [\"what\", \"is\", \"my\", \"name\", \"really\"], [\"can\", \"my\", \"name\", \"be\", \"Orpa\"], [\"it\", \"is\", \"not\", \"my\", \"name\"]]\n",
        "#[\"this is a document\", \"this is a processed document\", \"is this a document\", \"This is not a document\"]\n",
        "custom_bow = CustomBagOfWords(corpus)\n",
        "custom_bow._build_vocab()\n",
        "#print(vocab)"
      ],
      "metadata": {
        "id": "tXpoqDljIOMn"
      },
      "execution_count": null,
      "outputs": []
    },
    {
      "cell_type": "code",
      "source": [
        "x = custom_bow.create_index_map()"
      ],
      "metadata": {
        "id": "6vpXMOl9N9NH"
      },
      "execution_count": null,
      "outputs": []
    },
    {
      "cell_type": "code",
      "source": [
        "input_sent = [\"is\", \"this\", \"a\", \"sent\"]\n",
        "bow = custom_bow.bow(input_sent)\n",
        "print(bow)"
      ],
      "metadata": {
        "colab": {
          "base_uri": "https://localhost:8080/"
        },
        "id": "Xi7r5cTwRPd5",
        "outputId": "99f014f3-778d-4da0-a106-92b7695a696d"
      },
      "execution_count": null,
      "outputs": [
        {
          "output_type": "stream",
          "name": "stdout",
          "text": [
            "[0 1 0 0 1]\n"
          ]
        }
      ]
    },
    {
      "cell_type": "code",
      "source": [
        "v = custom_bow.create_vector()\n",
        "print(v)"
      ],
      "metadata": {
        "colab": {
          "base_uri": "https://localhost:8080/"
        },
        "id": "BsdTtzhPQ9sB",
        "outputId": "3aebe8f0-e955-43c1-c2ad-f11bd99f5f11"
      },
      "execution_count": null,
      "outputs": [
        {
          "output_type": "stream",
          "name": "stdout",
          "text": [
            "[[1 1 0 0 1]\n",
            " [1 1 0 1 1]\n",
            " [1 1 0 0 1]\n",
            " [1 1 1 0 1]]\n"
          ]
        }
      ]
    },
    {
      "cell_type": "code",
      "source": [
        "sklearn_bow = CountVectorizer()\n",
        "sklearn_output = sklearn_bow.fit_transform(corpus)\n",
        "print(sklearn_output)"
      ],
      "metadata": {
        "colab": {
          "base_uri": "https://localhost:8080/",
          "height": 352
        },
        "id": "iAj4DmYCJA_G",
        "outputId": "0274605c-7256-4df0-b13b-dcd32e43665f"
      },
      "execution_count": null,
      "outputs": [
        {
          "output_type": "error",
          "ename": "AttributeError",
          "evalue": "ignored",
          "traceback": [
            "\u001b[0;31m---------------------------------------------------------------------------\u001b[0m",
            "\u001b[0;31mAttributeError\u001b[0m                            Traceback (most recent call last)",
            "\u001b[0;32m<ipython-input-68-3f7a2b5c4af3>\u001b[0m in \u001b[0;36m<cell line: 2>\u001b[0;34m()\u001b[0m\n\u001b[1;32m      1\u001b[0m \u001b[0msklearn_bow\u001b[0m \u001b[0;34m=\u001b[0m \u001b[0mCountVectorizer\u001b[0m\u001b[0;34m(\u001b[0m\u001b[0;34m)\u001b[0m\u001b[0;34m\u001b[0m\u001b[0;34m\u001b[0m\u001b[0m\n\u001b[0;32m----> 2\u001b[0;31m \u001b[0msklearn_output\u001b[0m \u001b[0;34m=\u001b[0m \u001b[0msklearn_bow\u001b[0m\u001b[0;34m.\u001b[0m\u001b[0mfit_transform\u001b[0m\u001b[0;34m(\u001b[0m\u001b[0mcorpus\u001b[0m\u001b[0;34m)\u001b[0m\u001b[0;34m\u001b[0m\u001b[0;34m\u001b[0m\u001b[0m\n\u001b[0m\u001b[1;32m      3\u001b[0m \u001b[0mprint\u001b[0m\u001b[0;34m(\u001b[0m\u001b[0msklearn_output\u001b[0m\u001b[0;34m)\u001b[0m\u001b[0;34m\u001b[0m\u001b[0;34m\u001b[0m\u001b[0m\n",
            "\u001b[0;32m/usr/local/lib/python3.9/dist-packages/sklearn/feature_extraction/text.py\u001b[0m in \u001b[0;36mfit_transform\u001b[0;34m(self, raw_documents, y)\u001b[0m\n\u001b[1;32m   1386\u001b[0m                     \u001b[0;32mbreak\u001b[0m\u001b[0;34m\u001b[0m\u001b[0;34m\u001b[0m\u001b[0m\n\u001b[1;32m   1387\u001b[0m \u001b[0;34m\u001b[0m\u001b[0m\n\u001b[0;32m-> 1388\u001b[0;31m         \u001b[0mvocabulary\u001b[0m\u001b[0;34m,\u001b[0m \u001b[0mX\u001b[0m \u001b[0;34m=\u001b[0m \u001b[0mself\u001b[0m\u001b[0;34m.\u001b[0m\u001b[0m_count_vocab\u001b[0m\u001b[0;34m(\u001b[0m\u001b[0mraw_documents\u001b[0m\u001b[0;34m,\u001b[0m \u001b[0mself\u001b[0m\u001b[0;34m.\u001b[0m\u001b[0mfixed_vocabulary_\u001b[0m\u001b[0;34m)\u001b[0m\u001b[0;34m\u001b[0m\u001b[0;34m\u001b[0m\u001b[0m\n\u001b[0m\u001b[1;32m   1389\u001b[0m \u001b[0;34m\u001b[0m\u001b[0m\n\u001b[1;32m   1390\u001b[0m         \u001b[0;32mif\u001b[0m \u001b[0mself\u001b[0m\u001b[0;34m.\u001b[0m\u001b[0mbinary\u001b[0m\u001b[0;34m:\u001b[0m\u001b[0;34m\u001b[0m\u001b[0;34m\u001b[0m\u001b[0m\n",
            "\u001b[0;32m/usr/local/lib/python3.9/dist-packages/sklearn/feature_extraction/text.py\u001b[0m in \u001b[0;36m_count_vocab\u001b[0;34m(self, raw_documents, fixed_vocab)\u001b[0m\n\u001b[1;32m   1273\u001b[0m         \u001b[0;32mfor\u001b[0m \u001b[0mdoc\u001b[0m \u001b[0;32min\u001b[0m \u001b[0mraw_documents\u001b[0m\u001b[0;34m:\u001b[0m\u001b[0;34m\u001b[0m\u001b[0;34m\u001b[0m\u001b[0m\n\u001b[1;32m   1274\u001b[0m             \u001b[0mfeature_counter\u001b[0m \u001b[0;34m=\u001b[0m \u001b[0;34m{\u001b[0m\u001b[0;34m}\u001b[0m\u001b[0;34m\u001b[0m\u001b[0;34m\u001b[0m\u001b[0m\n\u001b[0;32m-> 1275\u001b[0;31m             \u001b[0;32mfor\u001b[0m \u001b[0mfeature\u001b[0m \u001b[0;32min\u001b[0m \u001b[0manalyze\u001b[0m\u001b[0;34m(\u001b[0m\u001b[0mdoc\u001b[0m\u001b[0;34m)\u001b[0m\u001b[0;34m:\u001b[0m\u001b[0;34m\u001b[0m\u001b[0;34m\u001b[0m\u001b[0m\n\u001b[0m\u001b[1;32m   1276\u001b[0m                 \u001b[0;32mtry\u001b[0m\u001b[0;34m:\u001b[0m\u001b[0;34m\u001b[0m\u001b[0;34m\u001b[0m\u001b[0m\n\u001b[1;32m   1277\u001b[0m                     \u001b[0mfeature_idx\u001b[0m \u001b[0;34m=\u001b[0m \u001b[0mvocabulary\u001b[0m\u001b[0;34m[\u001b[0m\u001b[0mfeature\u001b[0m\u001b[0;34m]\u001b[0m\u001b[0;34m\u001b[0m\u001b[0;34m\u001b[0m\u001b[0m\n",
            "\u001b[0;32m/usr/local/lib/python3.9/dist-packages/sklearn/feature_extraction/text.py\u001b[0m in \u001b[0;36m_analyze\u001b[0;34m(doc, analyzer, tokenizer, ngrams, preprocessor, decoder, stop_words)\u001b[0m\n\u001b[1;32m    109\u001b[0m     \u001b[0;32melse\u001b[0m\u001b[0;34m:\u001b[0m\u001b[0;34m\u001b[0m\u001b[0;34m\u001b[0m\u001b[0m\n\u001b[1;32m    110\u001b[0m         \u001b[0;32mif\u001b[0m \u001b[0mpreprocessor\u001b[0m \u001b[0;32mis\u001b[0m \u001b[0;32mnot\u001b[0m \u001b[0;32mNone\u001b[0m\u001b[0;34m:\u001b[0m\u001b[0;34m\u001b[0m\u001b[0;34m\u001b[0m\u001b[0m\n\u001b[0;32m--> 111\u001b[0;31m             \u001b[0mdoc\u001b[0m \u001b[0;34m=\u001b[0m \u001b[0mpreprocessor\u001b[0m\u001b[0;34m(\u001b[0m\u001b[0mdoc\u001b[0m\u001b[0;34m)\u001b[0m\u001b[0;34m\u001b[0m\u001b[0;34m\u001b[0m\u001b[0m\n\u001b[0m\u001b[1;32m    112\u001b[0m         \u001b[0;32mif\u001b[0m \u001b[0mtokenizer\u001b[0m \u001b[0;32mis\u001b[0m \u001b[0;32mnot\u001b[0m \u001b[0;32mNone\u001b[0m\u001b[0;34m:\u001b[0m\u001b[0;34m\u001b[0m\u001b[0;34m\u001b[0m\u001b[0m\n\u001b[1;32m    113\u001b[0m             \u001b[0mdoc\u001b[0m \u001b[0;34m=\u001b[0m \u001b[0mtokenizer\u001b[0m\u001b[0;34m(\u001b[0m\u001b[0mdoc\u001b[0m\u001b[0;34m)\u001b[0m\u001b[0;34m\u001b[0m\u001b[0;34m\u001b[0m\u001b[0m\n",
            "\u001b[0;32m/usr/local/lib/python3.9/dist-packages/sklearn/feature_extraction/text.py\u001b[0m in \u001b[0;36m_preprocess\u001b[0;34m(doc, accent_function, lower)\u001b[0m\n\u001b[1;32m     67\u001b[0m     \"\"\"\n\u001b[1;32m     68\u001b[0m     \u001b[0;32mif\u001b[0m \u001b[0mlower\u001b[0m\u001b[0;34m:\u001b[0m\u001b[0;34m\u001b[0m\u001b[0;34m\u001b[0m\u001b[0m\n\u001b[0;32m---> 69\u001b[0;31m         \u001b[0mdoc\u001b[0m \u001b[0;34m=\u001b[0m \u001b[0mdoc\u001b[0m\u001b[0;34m.\u001b[0m\u001b[0mlower\u001b[0m\u001b[0;34m(\u001b[0m\u001b[0;34m)\u001b[0m\u001b[0;34m\u001b[0m\u001b[0;34m\u001b[0m\u001b[0m\n\u001b[0m\u001b[1;32m     70\u001b[0m     \u001b[0;32mif\u001b[0m \u001b[0maccent_function\u001b[0m \u001b[0;32mis\u001b[0m \u001b[0;32mnot\u001b[0m \u001b[0;32mNone\u001b[0m\u001b[0;34m:\u001b[0m\u001b[0;34m\u001b[0m\u001b[0;34m\u001b[0m\u001b[0m\n\u001b[1;32m     71\u001b[0m         \u001b[0mdoc\u001b[0m \u001b[0;34m=\u001b[0m \u001b[0maccent_function\u001b[0m\u001b[0;34m(\u001b[0m\u001b[0mdoc\u001b[0m\u001b[0;34m)\u001b[0m\u001b[0;34m\u001b[0m\u001b[0;34m\u001b[0m\u001b[0m\n",
            "\u001b[0;31mAttributeError\u001b[0m: 'list' object has no attribute 'lower'"
          ]
        }
      ]
    },
    {
      "cell_type": "markdown",
      "source": [
        "#Main Test"
      ],
      "metadata": {
        "id": "Z81CBmvORrHl"
      }
    },
    {
      "cell_type": "code",
      "source": [
        "#Do not modify code below this. If this modified you will be given straight away 0.\n",
        "class testApproach:\n",
        "    def __init__(self):\n",
        "        self.original_corpus = [\"this is a document\", \"this is a processed document\", \"is this a document\", \"This is not a document\"]\n",
        "        self.corpus = self.process(self.original_corpus)\n",
        "        self.sklearn_bow = CountVectorizer()\n",
        "        self.custom_bow = CustomBagOfWords(self.corpus)\n",
        "\n",
        "    def process(self, corpus):\n",
        "        corpus = [x.lower() for x in corpus]\n",
        "        return [x.split() for x in corpus]\n",
        "    \n",
        "    def testBOW(self):\n",
        "        sklearn_output = self.sklearn_bow.fit_transform(self.original_corpus).toarray() ##don't understand\n",
        "        print(sklearn_output)\n",
        "        custom_output = self.custom_bow.create_vector()\n",
        "        print(custom_output)\n",
        "        \n",
        "        try:\n",
        "            is_correct = np.allclose(sklearn_output, custom_output) \n",
        "        except:\n",
        "            is_correct = False\n",
        "        if is_correct is True:\n",
        "            print(f\"ID : {ID} | Name : {NAME} | ALL test cases passed.\")\n",
        "            print(\"====\"*20)\n",
        "        else:\n",
        "            print(f\"ID : {ID} | Name : {NAME} | ALL test cases Failed.\")\n",
        "            print(\"====\"*20)\n",
        "    \n",
        "if __name__ == \"__main__\":\n",
        "    tester = testApproach()\n",
        "    tester.testBOW()"
      ],
      "metadata": {
        "colab": {
          "base_uri": "https://localhost:8080/"
        },
        "id": "6oN7jp2AHkcU",
        "outputId": "bf77760f-3702-495e-e6c3-49570424f593"
      },
      "execution_count": null,
      "outputs": [
        {
          "output_type": "stream",
          "name": "stdout",
          "text": [
            "[[1 1 0 0 1]\n",
            " [1 1 0 1 1]\n",
            " [1 1 0 0 1]\n",
            " [1 1 1 0 1]]\n",
            "[[1 1 0 0 1]\n",
            " [1 1 0 1 1]\n",
            " [1 1 0 0 1]\n",
            " [1 1 1 0 1]]\n",
            "ID : 1191609 | Name : Sama Samrin | ALL test cases passed.\n",
            "================================================================================\n"
          ]
        }
      ]
    },
    {
      "cell_type": "markdown",
      "source": [
        "#**My Attempts**"
      ],
      "metadata": {
        "id": "dEMQ-ddHsoqG"
      }
    },
    {
      "cell_type": "markdown",
      "source": [
        "##Creating Vocab"
      ],
      "metadata": {
        "id": "YUJHGUhAszy2"
      }
    },
    {
      "cell_type": "code",
      "source": [
        "corpus = [[\"this\", \"is\", \"a\", \"document\"], [\"this\", \"is\", \"a\", \"processed\", \"document\"], [\"is\", \"this\", \"a\", \"document\"], [\"this\", \"is\", \"not\", \"a\", \"document\"]]\n",
        "words = set()\n",
        "\n",
        "for i in range(len(corpus)):\n",
        "  print(\"i: \", i)\n",
        "  for j in range(len(corpus[i])):\n",
        "    x = corpus[i][j-1].split()\n",
        "    for k in range(len(x)):\n",
        "     if x[k] not in words:\n",
        "      words.add(x[k])\n",
        "\n",
        "print(words)"
      ],
      "metadata": {
        "colab": {
          "base_uri": "https://localhost:8080/"
        },
        "id": "7FUjPbuwgSHs",
        "outputId": "a1914c33-e47b-45a5-bc7e-c3dfe1395950"
      },
      "execution_count": null,
      "outputs": [
        {
          "output_type": "stream",
          "name": "stdout",
          "text": [
            "i:  0\n",
            "i:  1\n",
            "i:  2\n",
            "i:  3\n",
            "{'processed', 'not', 'a', 'document', 'this', 'is'}\n"
          ]
        }
      ]
    },
    {
      "cell_type": "code",
      "source": [],
      "metadata": {
        "id": "x_V2yWgkFGCY"
      },
      "execution_count": null,
      "outputs": []
    },
    {
      "cell_type": "code",
      "source": [
        "for i in range(len(corpus)):\n",
        "  print(\"i: \", i, \", corpus[i] : \", corpus[i], \", len(corpus[i]) : \", len(corpus[i]))\n",
        "  for j in range(0,len(corpus[i])):\n",
        "    print\n",
        "    print(\"i=\", i, \" j=\", j, \" corpus[i][j]= \", corpus[i][j])"
      ],
      "metadata": {
        "colab": {
          "base_uri": "https://localhost:8080/"
        },
        "id": "HvCpP-EoFNRH",
        "outputId": "0ebdf1cb-7baa-484f-ff38-7fcd150417d6"
      },
      "execution_count": null,
      "outputs": [
        {
          "output_type": "stream",
          "name": "stdout",
          "text": [
            "i:  0 , corpus[i] :  ['this', 'is', 'a', 'document'] , len(corpus[i]) :  4\n",
            "i= 0  j= 0  corpus[i][j]=  this\n",
            "i= 0  j= 1  corpus[i][j]=  is\n",
            "i= 0  j= 2  corpus[i][j]=  a\n",
            "i= 0  j= 3  corpus[i][j]=  document\n",
            "i:  1 , corpus[i] :  ['this', 'is', 'a', 'processed', 'document'] , len(corpus[i]) :  5\n",
            "i= 1  j= 0  corpus[i][j]=  this\n",
            "i= 1  j= 1  corpus[i][j]=  is\n",
            "i= 1  j= 2  corpus[i][j]=  a\n",
            "i= 1  j= 3  corpus[i][j]=  processed\n",
            "i= 1  j= 4  corpus[i][j]=  document\n",
            "i:  2 , corpus[i] :  ['is', 'this', 'a', 'document'] , len(corpus[i]) :  4\n",
            "i= 2  j= 0  corpus[i][j]=  is\n",
            "i= 2  j= 1  corpus[i][j]=  this\n",
            "i= 2  j= 2  corpus[i][j]=  a\n",
            "i= 2  j= 3  corpus[i][j]=  document\n",
            "i:  3 , corpus[i] :  ['this', 'is', 'not', 'a', 'document'] , len(corpus[i]) :  5\n",
            "i= 3  j= 0  corpus[i][j]=  this\n",
            "i= 3  j= 1  corpus[i][j]=  is\n",
            "i= 3  j= 2  corpus[i][j]=  not\n",
            "i= 3  j= 3  corpus[i][j]=  a\n",
            "i= 3  j= 4  corpus[i][j]=  document\n"
          ]
        }
      ]
    },
    {
      "cell_type": "markdown",
      "source": [
        "## Create index map"
      ],
      "metadata": {
        "id": "VKIWhngjs-c8"
      }
    },
    {
      "cell_type": "code",
      "source": [
        "\"\"\"Method to map every word to its index in the vocabulary\n",
        "        Hint: Iterate over the vocabulary and store them in word_to_index\n",
        "        \"\"\"\n",
        "#word_to_index = dict.fromkeys(words) #empty dictionary\n",
        "word_to_index = dict.fromkeys(words)\n",
        "count = 0\n",
        "\n",
        "for i in words:\n",
        "  word_to_index[i] = count\n",
        "  count +=1\n",
        "  #print(i, count-1)\n",
        "print(word_to_index)\n",
        "w = word_to_index"
      ],
      "metadata": {
        "colab": {
          "base_uri": "https://localhost:8080/"
        },
        "id": "jk6IEMIist08",
        "outputId": "57c5bbc4-f5bd-40d5-f58e-a06d7c24a099"
      },
      "execution_count": null,
      "outputs": [
        {
          "output_type": "stream",
          "name": "stdout",
          "text": [
            "{'processed': 0, 'not': 1, 'a': 2, 'document': 3, 'this': 4, 'is': 5}\n"
          ]
        }
      ]
    },
    {
      "cell_type": "markdown",
      "source": [
        "##Vectorization"
      ],
      "metadata": {
        "id": "IB-J8gXJ0okV"
      }
    },
    {
      "cell_type": "code",
      "source": [
        "#def bow(self, input_sent: List[str]) -> np.ndarray:\n",
        "\"\"\"Method which accepts input_sent of the form : [\"is\", \"this\", \"a\", \"sent\"].\n",
        "        Task:\n",
        "            Implement the bag of words approach for the above input. \n",
        "            This function should return a vector of counts for the given inputs.\n",
        "            The output shape of the vector should be 1 x len(self.vocab)\n",
        "            The output should be a numpy array\n",
        "            Example:\n",
        "                length of vocabulary = 10\n",
        "                input_sent = [\"is\", \"this\", \"a\", \"sent\"]\n",
        "                The method should return a vector of shape 1 x 10.\n",
        "pass\"\"\"\n",
        "\n",
        "\n",
        "vector_shape = (1, len(words))\n",
        "vector = np.zeros(vector_shape, dtype=int)\n",
        "print(vector)\n",
        "\n",
        "input_sent = np.array([\"is\", \"this\", \"a\", \"sent\"])\n",
        "\n",
        "for i in input_sent:\n",
        "  if i not in words:\n",
        "    input_index = np.where(input_sent == i)\n",
        "    print(\"OOV error with the word: *\", i, \"* at \", input_index[0])\n",
        "  elif i in word_to_index:\n",
        "    input_index = np.where(input_sent == i)\n",
        "    indx = word_to_index[i]\n",
        "    #print(vector[0][indx])\n",
        "    vector[0][indx] += 1\n",
        "\n",
        "\"\"\"for i in word_to_index:\n",
        "  if i not in words:\n",
        "    print(\"OOV error\")\n",
        "  elif i in input_sent:\n",
        "    indx = word_to_index[i]\n",
        "    #print(vector[0][indx])\n",
        "    vector[0][indx] += 1\"\"\"\n",
        "  #print(i, word_to_index[i], indx)\n",
        "print(words)\n",
        "print(vector)"
      ],
      "metadata": {
        "colab": {
          "base_uri": "https://localhost:8080/"
        },
        "id": "SNTjrPu80zKN",
        "outputId": "b30b712e-ffd9-4c33-9981-bd0ce7d18a60"
      },
      "execution_count": null,
      "outputs": [
        {
          "output_type": "stream",
          "name": "stdout",
          "text": [
            "[[0 0 0 0 0 0]]\n",
            "OOV error with the word: * sent * at  [3]\n",
            "{'processed', 'not', 'a', 'document', 'this', 'is'}\n",
            "[[0 0 1 0 1 1]]\n"
          ]
        }
      ]
    },
    {
      "cell_type": "markdown",
      "source": [
        "## Final method/work"
      ],
      "metadata": {
        "id": "LuVUQeFE0y8E"
      }
    },
    {
      "cell_type": "code",
      "source": [],
      "metadata": {
        "id": "DK7feAPUCVjY"
      },
      "execution_count": null,
      "outputs": []
    },
    {
      "cell_type": "markdown",
      "source": [
        "\n",
        "\n",
        "---\n",
        "\n"
      ],
      "metadata": {
        "id": "xcduv921wfw2"
      }
    },
    {
      "cell_type": "markdown",
      "source": [
        "#Others"
      ],
      "metadata": {
        "id": "bvpD_LJV0qr_"
      }
    },
    {
      "cell_type": "code",
      "source": [
        "original_corpus = [\"this is a document\", \"this is a processed document\", \"is this a document\", \"this is not a document\"]\n",
        "x = CountVectorizer().fit_transform(original_corpus)\n",
        "print(x)\n",
        "\n",
        "sklearn_output = x.toarray()\n",
        "\n",
        "print(sklearn_output)"
      ],
      "metadata": {
        "colab": {
          "base_uri": "https://localhost:8080/"
        },
        "id": "HKO0WxorntJ8",
        "outputId": "8e175a93-882f-442a-cdbd-239c23c8b21d"
      },
      "execution_count": null,
      "outputs": [
        {
          "output_type": "stream",
          "name": "stdout",
          "text": [
            "  (0, 4)\t1\n",
            "  (0, 1)\t1\n",
            "  (0, 0)\t1\n",
            "  (1, 4)\t1\n",
            "  (1, 1)\t1\n",
            "  (1, 0)\t1\n",
            "  (1, 3)\t1\n",
            "  (2, 4)\t1\n",
            "  (2, 1)\t1\n",
            "  (2, 0)\t1\n",
            "  (3, 4)\t1\n",
            "  (3, 1)\t1\n",
            "  (3, 0)\t1\n",
            "  (3, 2)\t1\n",
            "[[1 1 0 0 1]\n",
            " [1 1 0 1 1]\n",
            " [1 1 0 0 1]\n",
            " [1 1 1 0 1]]\n"
          ]
        }
      ]
    },
    {
      "cell_type": "markdown",
      "source": [
        "#**Testing**"
      ],
      "metadata": {
        "id": "fSC3lLVymsqE"
      }
    },
    {
      "cell_type": "code",
      "source": [
        "#Do not modify code below this. If this modified you will be given straight away 0.\n",
        "class testApproach:\n",
        "    def __init__(self):\n",
        "        self.original_corpus = [\"this is a document\", \"this is a processed document\", \"is this a document\", \"This is not a document\"]\n",
        "        self.corpus = self.process(self.original_corpus)\n",
        "        self.sklearn_bow = CountVectorizer()\n",
        "        self.custom_bow = CustomBagOfWords(self.corpus)\n",
        "\n",
        "    def process(self, corpus):\n",
        "        corpus = [x.lower() for x in corpus]\n",
        "        return [x.split() for x in corpus]\n",
        "    \n",
        "    def testBOW(self):\n",
        "        sklearn_output = self.sklearn_bow.fit_transform(self.original_corpus).toarray()\n",
        "        custom_output = self.custom_bow.create_vector()\n",
        "        \n",
        "        try:\n",
        "            is_correct = np.allclose(sklearn_output, custom_output) \n",
        "        except:\n",
        "            is_correct = False\n",
        "        if is_correct is True:\n",
        "            print(f\"ID : {ID} | Name : {NAME} | ALL test cases passed.\")\n",
        "            print(\"====\"*20)\n",
        "        else:\n",
        "            print(f\"ID : {ID} | Name : {NAME} | ALL test cases Failed.\")\n",
        "            print(\"====\"*20)\n",
        "    \n",
        "if __name__ == \"__main__\":\n",
        "    tester = testApproach()\n",
        "    tester.testBOW()"
      ],
      "metadata": {
        "colab": {
          "base_uri": "https://localhost:8080/"
        },
        "id": "6BDJAKNTl1lT",
        "outputId": "f50b7d5c-f122-4f50-fc9e-c146c2eb88f3"
      },
      "execution_count": null,
      "outputs": [
        {
          "output_type": "stream",
          "name": "stdout",
          "text": [
            "ID : 1191609 | Name : Sama Samrin | ALL test cases Failed.\n",
            "================================================================================\n"
          ]
        }
      ]
    }
  ]
}