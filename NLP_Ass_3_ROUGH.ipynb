{
  "nbformat": 4,
  "nbformat_minor": 0,
  "metadata": {
    "colab": {
      "provenance": [],
      "authorship_tag": "ABX9TyNAFfg48NEOP6YYb8PaD+3h",
      "include_colab_link": true
    },
    "kernelspec": {
      "name": "python3",
      "display_name": "Python 3"
    },
    "language_info": {
      "name": "python"
    }
  },
  "cells": [
    {
      "cell_type": "markdown",
      "metadata": {
        "id": "view-in-github",
        "colab_type": "text"
      },
      "source": [
        "<a href=\"https://colab.research.google.com/github/SamaSamrin/NLP-Bag-of-Words-Implementation-Attempt/blob/main/NLP_Ass_3_ROUGH.ipynb\" target=\"_parent\"><img src=\"https://colab.research.google.com/assets/colab-badge.svg\" alt=\"Open In Colab\"/></a>"
      ]
    },
    {
      "cell_type": "code",
      "execution_count": 11,
      "metadata": {
        "id": "CM65485NeEn7"
      },
      "outputs": [],
      "source": [
        "import numpy as np\n",
        "from collections import defaultdict, Counter\n",
        "from sklearn.feature_extraction.text import CountVectorizer, TfidfTransformer\n",
        "from typing import List\n",
        "#import re"
      ]
    },
    {
      "cell_type": "code",
      "source": [
        "ID = \"1191609\"\n",
        "NAME = \"Sama Samrin\""
      ],
      "metadata": {
        "id": "dvATSIm4efTb"
      },
      "execution_count": 2,
      "outputs": []
    },
    {
      "cell_type": "code",
      "source": [
        "class CustomBagOfWords:\n",
        "    \n",
        "    def __init__(self, data: List[List[str]]):\n",
        "        #data is a list of lists which consists of words. For example = [[\"it\", \"consist\", \"of\", \"words\"]]\n",
        "        self.data = data \n",
        "        #Map to store words to indexes in the vocab\n",
        "        self.word_to_index = {}\n",
        "        #Vocab stores all the unique words in the dataset.\n",
        "        self.vocab = set()\n",
        "    \n",
        "    def _build_vocab(self):\n",
        "        \"\"\"Method to build vocabulary. Vocabulary is a list of unique words in the dataset and it is alphabetically sorted. \n",
        "        Hint: Use the self.vocab to store unique words\n",
        "        Note: Include only words whose length is >= 2\n",
        "        \"\"\"\n",
        "        ignore = [\"a\", \"an\", \"the\", \"this\", \"that\", \"is\", \"it\", \"to\", \"and\"] #ignoring the stop words\n",
        "        punctuation = []\n",
        "        words = data\n",
        "        self.vocab = self.vocab\n",
        "        #Implement your logic above this line\n",
        "        #Do not modify the below line\n",
        "        self.vocab = sorted(list(self.vocab))\n",
        "    \n",
        "    def create_index_map(self):\n",
        "        \"\"\"Method to map every word to its index in the vocabulary\n",
        "        Hint: Iterate over the vocabulary and store them in word_to_index\n",
        "        \"\"\"\n",
        "        #Implement the logic below this line\n",
        "    \n",
        "    def bow(self, input_sent: List[str]) -> np.ndarray:\n",
        "        \"\"\"Method which accepts input_sent of the form : [\"is\", \"this\", \"a\", \"sent\"].\n",
        "        Task:\n",
        "            Implement the bag of words approach for the above input. \n",
        "            This function should return a vector of counts for the given inputs.\n",
        "            The output shape of the vector should be 1 x len(self.vocab)\n",
        "            The output should be a numpy array\n",
        "            Example:\n",
        "                length of vocabulary = 10\n",
        "                input_sent = [\"is\", \"this\", \"a\", \"sent\"]\n",
        "                The method should return a vector of shape 1 x 10.\n",
        "        \"\"\"\n",
        "        pass\n",
        "    \n",
        "    def create_vector(self) -> np.ndarray:\n",
        "        \"\"\"Method iterates over the whole dataset and creates the bag of words vector of shape:  len(self.data) x len(self.vocab)\"\"\"\n",
        "        #Do not modify this function\n",
        "        self._build_vocab()\n",
        "        self.create_index_map()\n",
        "        vector = []\n",
        "        for sent in self.data:\n",
        "            sent_vector = self.bow(sent)\n",
        "            vector.append(sent_vector)\n",
        "        vector = np.array(vector)\n",
        "        return vector"
      ],
      "metadata": {
        "id": "xETC2zELeiTz"
      },
      "execution_count": 14,
      "outputs": []
    },
    {
      "cell_type": "code",
      "source": [
        "data = \"   This is a message to be cleaned. It might involve some things like: <br>, ?, :, ''  adjacent spaces, and tabs     . \"\n",
        "vocab = re.sub(\"[^\\w]\", \" \",  data).split()\n",
        "\n",
        "print(vocab)\n",
        "print(type(vocab))"
      ],
      "metadata": {
        "colab": {
          "base_uri": "https://localhost:8080/"
        },
        "id": "3uGzNtzghmQD",
        "outputId": "08248501-f941-43bd-d136-15ee7c55e78e"
      },
      "execution_count": 10,
      "outputs": [
        {
          "output_type": "stream",
          "name": "stdout",
          "text": [
            "['This', 'is', 'a', 'message', 'to', 'be', 'cleaned', 'It', 'might', 'involve', 'some', 'things', 'like', 'br', 'adjacent', 'spaces', 'and', 'tabs']\n",
            "<class 'list'>\n"
          ]
        }
      ]
    },
    {
      "cell_type": "markdown",
      "source": [
        "#**My Attempts**"
      ],
      "metadata": {
        "id": "dEMQ-ddHsoqG"
      }
    },
    {
      "cell_type": "markdown",
      "source": [
        "##Creating Vocab"
      ],
      "metadata": {
        "id": "YUJHGUhAszy2"
      }
    },
    {
      "cell_type": "code",
      "source": [
        "corpus = [\"this is a document\", \"this is a processed document\", \"is this a document\", \"this is not a document\"]\n",
        "words = set()\n",
        "\n",
        "for i in range(len(corpus)):\n",
        "  x = corpus[i].split(\" \")\n",
        "  for j in range(len(x)):\n",
        "    if x[j] not in words:\n",
        "      words.add(x[j])\n",
        "\n",
        "print(words)"
      ],
      "metadata": {
        "colab": {
          "base_uri": "https://localhost:8080/"
        },
        "id": "7FUjPbuwgSHs",
        "outputId": "8369687f-cb4e-4711-d30e-9a22f8e030b2"
      },
      "execution_count": 34,
      "outputs": [
        {
          "output_type": "stream",
          "name": "stdout",
          "text": [
            "{'this', 'not', 'is', 'processed', 'document', 'a'}\n"
          ]
        }
      ]
    },
    {
      "cell_type": "markdown",
      "source": [
        "## Create index map"
      ],
      "metadata": {
        "id": "VKIWhngjs-c8"
      }
    },
    {
      "cell_type": "code",
      "source": [
        "\"\"\"Method to map every word to its index in the vocabulary\n",
        "        Hint: Iterate over the vocabulary and store them in word_to_index\n",
        "        \"\"\"\n",
        "#word_to_index = dict.fromkeys(words) #empty dictionary\n",
        "word_to_index = dict.fromkeys(words)\n",
        "count = 0\n",
        "\n",
        "for i in words:\n",
        "  word_to_index[i] = count\n",
        "  count +=1\n",
        "  #print(i, count-1)\n",
        "\n",
        "\"\"\"for word in words:\n",
        "  #print(word)\n",
        "  count = 0\n",
        "  for i in range(len(corpus)):\n",
        "      if word in corpus[i]:\n",
        "       count+=1\n",
        "  print(word, \" : \", count)\n",
        "  word_to_index[word] = count\n",
        "\"\"\"\n",
        "print(word_to_index)"
      ],
      "metadata": {
        "colab": {
          "base_uri": "https://localhost:8080/"
        },
        "id": "jk6IEMIist08",
        "outputId": "99cc461b-e984-4c04-e57f-4c69416c1f9e"
      },
      "execution_count": 70,
      "outputs": [
        {
          "output_type": "stream",
          "name": "stdout",
          "text": [
            "{'this': 0, 'not': 1, 'is': 2, 'processed': 3, 'document': 4, 'a': 5}\n"
          ]
        }
      ]
    },
    {
      "cell_type": "markdown",
      "source": [
        "##Vectorization"
      ],
      "metadata": {
        "id": "IB-J8gXJ0okV"
      }
    },
    {
      "cell_type": "code",
      "source": [
        "#def bow(self, input_sent: List[str]) -> np.ndarray:\n",
        "\"\"\"Method which accepts input_sent of the form : [\"is\", \"this\", \"a\", \"sent\"].\n",
        "        Task:\n",
        "            Implement the bag of words approach for the above input. \n",
        "            This function should return a vector of counts for the given inputs.\n",
        "            The output shape of the vector should be 1 x len(self.vocab)\n",
        "            The output should be a numpy array\n",
        "            Example:\n",
        "                length of vocabulary = 10\n",
        "                input_sent = [\"is\", \"this\", \"a\", \"sent\"]\n",
        "                The method should return a vector of shape 1 x 10.\n",
        "pass\"\"\"\n",
        "\n",
        "\n",
        "vector_shape = (1, len(words))\n",
        "vector = np.zeros(vector_shape, dtype=int)\n",
        "print(vector)\n",
        "\n",
        "input_sent = np.array([\"is\", \"this\", \"a\", \"sent\"])\n",
        "\n",
        "for i in input_sent:\n",
        "  if i not in words:\n",
        "    input_index = np.where(input_sent == i)\n",
        "    print(\"OOV error with the word: \", i, \" at \", input_index[0])\n",
        "  elif i in word_to_index:\n",
        "    input_index = np.where(input_sent == i)\n",
        "    indx = word_to_index[i]\n",
        "    #print(vector[0][indx])\n",
        "    vector[0][indx] += 1\n",
        "\n",
        "\"\"\"for i in word_to_index:\n",
        "  if i not in words:\n",
        "    print(\"OOV error\")\n",
        "  elif i in input_sent:\n",
        "    indx = word_to_index[i]\n",
        "    #print(vector[0][indx])\n",
        "    vector[0][indx] += 1\"\"\"\n",
        "  #print(i, word_to_index[i], indx)\n",
        "print(words)\n",
        "print(vector)"
      ],
      "metadata": {
        "colab": {
          "base_uri": "https://localhost:8080/"
        },
        "id": "SNTjrPu80zKN",
        "outputId": "d9bb4a5b-63d3-424a-c22c-2a8704458d2a"
      },
      "execution_count": 108,
      "outputs": [
        {
          "output_type": "stream",
          "name": "stdout",
          "text": [
            "[[0 0 0 0 0 0]]\n",
            "OOV error with the word:  sent  at  [3]\n",
            "{'this', 'not', 'is', 'processed', 'document', 'a'}\n",
            "[[1 0 1 0 0 1]]\n"
          ]
        }
      ]
    },
    {
      "cell_type": "markdown",
      "source": [
        "## Final method/work"
      ],
      "metadata": {
        "id": "LuVUQeFE0y8E"
      }
    },
    {
      "cell_type": "code",
      "source": [],
      "metadata": {
        "id": "DK7feAPUCVjY"
      },
      "execution_count": null,
      "outputs": []
    },
    {
      "cell_type": "markdown",
      "source": [
        "\n",
        "\n",
        "---\n",
        "\n"
      ],
      "metadata": {
        "id": "xcduv921wfw2"
      }
    },
    {
      "cell_type": "markdown",
      "source": [
        "#Others"
      ],
      "metadata": {
        "id": "bvpD_LJV0qr_"
      }
    },
    {
      "cell_type": "code",
      "source": [
        "original_corpus = [\"this is a document\", \"this is a processed document\", \"is this a document\", \"this is not a document\"]\n",
        "x = CountVectorizer().fit_transform(original_corpus)\n",
        "print(x)\n",
        "\n",
        "sklearn_output = x.toarray()\n",
        "\n",
        "print(sklearn_output)"
      ],
      "metadata": {
        "colab": {
          "base_uri": "https://localhost:8080/"
        },
        "id": "HKO0WxorntJ8",
        "outputId": "8e175a93-882f-442a-cdbd-239c23c8b21d"
      },
      "execution_count": 22,
      "outputs": [
        {
          "output_type": "stream",
          "name": "stdout",
          "text": [
            "  (0, 4)\t1\n",
            "  (0, 1)\t1\n",
            "  (0, 0)\t1\n",
            "  (1, 4)\t1\n",
            "  (1, 1)\t1\n",
            "  (1, 0)\t1\n",
            "  (1, 3)\t1\n",
            "  (2, 4)\t1\n",
            "  (2, 1)\t1\n",
            "  (2, 0)\t1\n",
            "  (3, 4)\t1\n",
            "  (3, 1)\t1\n",
            "  (3, 0)\t1\n",
            "  (3, 2)\t1\n",
            "[[1 1 0 0 1]\n",
            " [1 1 0 1 1]\n",
            " [1 1 0 0 1]\n",
            " [1 1 1 0 1]]\n"
          ]
        }
      ]
    },
    {
      "cell_type": "markdown",
      "source": [
        "#**Testing**"
      ],
      "metadata": {
        "id": "fSC3lLVymsqE"
      }
    },
    {
      "cell_type": "code",
      "source": [
        "#Do not modify code below this. If this modified you will be given straight away 0.\n",
        "class testApproach:\n",
        "    def __init__(self):\n",
        "        self.original_corpus = [\"this is a document\", \"this is a processed document\", \"is this a document\", \"This is not a document\"]\n",
        "        self.corpus = self.process(self.original_corpus)\n",
        "        self.sklearn_bow = CountVectorizer()\n",
        "        self.custom_bow = CustomBagOfWords(self.corpus)\n",
        "\n",
        "    def process(self, corpus):\n",
        "        corpus = [x.lower() for x in corpus]\n",
        "        return [x.split() for x in corpus]\n",
        "    \n",
        "    def testBOW(self):\n",
        "        sklearn_output = self.sklearn_bow.fit_transform(self.original_corpus).toarray()\n",
        "        custom_output = self.custom_bow.create_vector()\n",
        "        \n",
        "        try:\n",
        "            is_correct = np.allclose(sklearn_output, custom_output) \n",
        "        except:\n",
        "            is_correct = False\n",
        "        if is_correct is True:\n",
        "            print(f\"ID : {ID} | Name : {NAME} | ALL test cases passed.\")\n",
        "            print(\"====\"*20)\n",
        "        else:\n",
        "            print(f\"ID : {ID} | Name : {NAME} | ALL test cases Failed.\")\n",
        "            print(\"====\"*20)\n",
        "    \n",
        "if __name__ == \"__main__\":\n",
        "    tester = testApproach()\n",
        "    tester.testBOW()"
      ],
      "metadata": {
        "colab": {
          "base_uri": "https://localhost:8080/"
        },
        "id": "6BDJAKNTl1lT",
        "outputId": "f50b7d5c-f122-4f50-fc9e-c146c2eb88f3"
      },
      "execution_count": 15,
      "outputs": [
        {
          "output_type": "stream",
          "name": "stdout",
          "text": [
            "ID : 1191609 | Name : Sama Samrin | ALL test cases Failed.\n",
            "================================================================================\n"
          ]
        }
      ]
    }
  ]
}