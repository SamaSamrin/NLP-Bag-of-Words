{
  "nbformat": 4,
  "nbformat_minor": 0,
  "metadata": {
    "colab": {
      "provenance": [],
      "authorship_tag": "ABX9TyN6DKyePme4/C2WxmE1Yl8Q",
      "include_colab_link": true
    },
    "kernelspec": {
      "name": "python3",
      "display_name": "Python 3"
    },
    "language_info": {
      "name": "python"
    }
  },
  "cells": [
    {
      "cell_type": "markdown",
      "metadata": {
        "id": "view-in-github",
        "colab_type": "text"
      },
      "source": [
        "<a href=\"https://colab.research.google.com/github/SamaSamrin/NLP-Bag-of-Words-Implementation-Attempt/blob/main/NLP_Ass_3_ROUGH.ipynb\" target=\"_parent\"><img src=\"https://colab.research.google.com/assets/colab-badge.svg\" alt=\"Open In Colab\"/></a>"
      ]
    },
    {
      "cell_type": "code",
      "execution_count": 22,
      "metadata": {
        "id": "CM65485NeEn7"
      },
      "outputs": [],
      "source": [
        "import numpy as np\n",
        "from collections import defaultdict, Counter\n",
        "from sklearn.feature_extraction.text import CountVectorizer, TfidfTransformer\n",
        "from typing import List\n",
        "#import re"
      ]
    },
    {
      "cell_type": "code",
      "source": [
        "ID = \"1191609\"\n",
        "NAME = \"Sama Samrin\""
      ],
      "metadata": {
        "id": "dvATSIm4efTb"
      },
      "execution_count": 23,
      "outputs": []
    },
    {
      "cell_type": "code",
      "source": [
        "class CustomBagOfWords:\n",
        "    \n",
        "    def __init__(self, data: List[List[str]]):\n",
        "        #data is a list of lists which consists of words. For example = [[\"it\", \"consist\", \"of\", \"words\"]]\n",
        "        self.data = data \n",
        "        #Map to store words to indexes in the vocab\n",
        "        self.word_to_index = {}\n",
        "        #Vocab stores all the unique words in the dataset.\n",
        "        self.vocab = set()\n",
        "    \n",
        "    def _build_vocab(self):\n",
        "        \"\"\"Method to build vocabulary. Vocabulary is a list of unique words in the dataset and it is alphabetically sorted. \n",
        "        Hint: Use the self.vocab to store unique words\n",
        "        Note: Include only words whose length is >= 2\n",
        "        \"\"\"\n",
        "        corpus = self.data\n",
        "        words = set()\n",
        "        print(\"corpus : \", corpus)\n",
        "\n",
        "        for i in range(len(corpus)):\n",
        "          print(\"i: \", i)\n",
        "          for j in range(len(corpus[i])):\n",
        "            x = corpus[i][j-1].split(\" \")\n",
        "            for k in range(len(x)):\n",
        "              if x[k] not in words and len(x[k])>=2:\n",
        "                words.add(x[k])\n",
        "\n",
        "        print(words)\n",
        "        self.vocab = words\n",
        "        #Implement your logic above this line\n",
        "        #Do not modify the below line\n",
        "        self.vocab = sorted(list(self.vocab))\n",
        "    \n",
        "    def create_index_map(self):\n",
        "        \"\"\"Method to map every word to its index in the vocabulary\n",
        "        Hint: Iterate over the vocabulary and store them in word_to_index\n",
        "        \"\"\"\n",
        "        #Implement the logic below this line\n",
        "    \n",
        "    def bow(self, input_sent: List[str]) -> np.ndarray:\n",
        "        \"\"\"Method which accepts input_sent of the form : [\"is\", \"this\", \"a\", \"sent\"].\n",
        "        Task:\n",
        "            Implement the bag of words approach for the above input. \n",
        "            This function should return a vector of counts for the given inputs.\n",
        "            The output shape of the vector should be 1 x len(self.vocab)\n",
        "            The output should be a numpy array\n",
        "            Example:\n",
        "                length of vocabulary = 10\n",
        "                input_sent = [\"is\", \"this\", \"a\", \"sent\"]\n",
        "                The method should return a vector of shape 1 x 10.\n",
        "        \"\"\"\n",
        "        pass\n",
        "    \n",
        "    def create_vector(self) -> np.ndarray:\n",
        "        \"\"\"Method iterates over the whole dataset and creates the bag of words vector of shape:  len(self.data) x len(self.vocab)\"\"\"\n",
        "        #Do not modify this function\n",
        "        self._build_vocab()\n",
        "        self.create_index_map()\n",
        "        vector = []\n",
        "        for sent in self.data:\n",
        "            sent_vector = self.bow(sent)\n",
        "            vector.append(sent_vector)\n",
        "        vector = np.array(vector)\n",
        "        return vector"
      ],
      "metadata": {
        "id": "xETC2zELeiTz"
      },
      "execution_count": 41,
      "outputs": []
    },
    {
      "cell_type": "code",
      "source": [
        "data = \"   This is a message to be cleaned. It might involve some things like: <br>, ?, :, ''  adjacent spaces, and tabs     . \"\n",
        "vocab = re.sub(\"[^\\w]\", \" \",  data).split()\n",
        "\n",
        "print(vocab)\n",
        "print(type(vocab))"
      ],
      "metadata": {
        "colab": {
          "base_uri": "https://localhost:8080/"
        },
        "id": "3uGzNtzghmQD",
        "outputId": "08248501-f941-43bd-d136-15ee7c55e78e"
      },
      "execution_count": null,
      "outputs": [
        {
          "output_type": "stream",
          "name": "stdout",
          "text": [
            "['This', 'is', 'a', 'message', 'to', 'be', 'cleaned', 'It', 'might', 'involve', 'some', 'things', 'like', 'br', 'adjacent', 'spaces', 'and', 'tabs']\n",
            "<class 'list'>\n"
          ]
        }
      ]
    },
    {
      "cell_type": "markdown",
      "source": [
        "# **My Tests**"
      ],
      "metadata": {
        "id": "HcTr2HGmHhpf"
      }
    },
    {
      "cell_type": "code",
      "source": [
        "#corpus = [[\"this\", \"is\", \"a\", \"document\"], [\"this\", \"is\", \"a\", \"processed\", \"document\"], [\"is\", \"this\", \"a\", \"document\"], [\"this\", \"is\", \"not\", \"a\", \"document\"]]\n",
        "corpus = [[\"my\", \"name\", \"is\", \"Orpa\"], [\"what\", \"is\", \"my\", \"name\", \"really\"], [\"can\", \"my\", \"name\", \"be\", \"Orpa\"], [\"it\", \"is\", \"not\", \"my\", \"name\"]]\n",
        "#[\"this is a document\", \"this is a processed document\", \"is this a document\", \"This is not a document\"]\n",
        "custom_bow = CustomBagOfWords(corpus)\n",
        "vocab = custom_bow._build_vocab()\n",
        "#print(vocab)\n",
        "#custom_output = custom_bow.create_vector()"
      ],
      "metadata": {
        "colab": {
          "base_uri": "https://localhost:8080/"
        },
        "id": "tXpoqDljIOMn",
        "outputId": "d0c7f71d-a581-48d7-b515-fab873367d05"
      },
      "execution_count": 45,
      "outputs": [
        {
          "output_type": "stream",
          "name": "stdout",
          "text": [
            "corpus :  [['my', 'name', 'is', 'Orpa'], ['what', 'is', 'my', 'name', 'really'], ['can', 'my', 'name', 'be', 'Orpa'], ['it', 'is', 'not', 'my', 'name']]\n",
            "i:  0\n",
            "i:  1\n",
            "i:  2\n",
            "i:  3\n",
            "{'name', 'be', 'what', 'not', 'my', 'it', 'Orpa', 'really', 'is', 'can'}\n"
          ]
        }
      ]
    },
    {
      "cell_type": "code",
      "source": [
        "sklearn_bow = CountVectorizer()\n",
        "sklearn_output = sklearn_bow.fit_transform(corpus).toarray()\n",
        "print(sklearn_output)"
      ],
      "metadata": {
        "colab": {
          "base_uri": "https://localhost:8080/"
        },
        "id": "iAj4DmYCJA_G",
        "outputId": "4f6aab70-bdd6-4fa4-ee26-302f80d0b374"
      },
      "execution_count": 29,
      "outputs": [
        {
          "output_type": "stream",
          "name": "stdout",
          "text": [
            "[[1 1 0 0 1]\n",
            " [1 1 0 1 1]\n",
            " [1 1 0 0 1]\n",
            " [1 1 1 0 1]]\n"
          ]
        }
      ]
    },
    {
      "cell_type": "code",
      "source": [
        "#Do not modify code below this. If this modified you will be given straight away 0.\n",
        "class testApproach:\n",
        "    def __init__(self):\n",
        "        self.original_corpus = [\"this is a document\", \"this is a processed document\", \"is this a document\", \"This is not a document\"]\n",
        "        self.corpus = self.process(self.original_corpus)\n",
        "        self.sklearn_bow = CountVectorizer()\n",
        "        self.custom_bow = CustomBagOfWords(self.corpus)\n",
        "\n",
        "    def process(self, corpus):\n",
        "        corpus = [x.lower() for x in corpus]\n",
        "        return [x.split() for x in corpus]\n",
        "    \n",
        "    def testBOW(self):\n",
        "        sklearn_output = self.sklearn_bow.fit_transform(self.original_corpus).toarray() ##don't understand\n",
        "        custom_output = self.custom_bow.create_vector()\n",
        "        \n",
        "        try:\n",
        "            is_correct = np.allclose(sklearn_output, custom_output) \n",
        "        except:\n",
        "            is_correct = False\n",
        "        if is_correct is True:\n",
        "            print(f\"ID : {ID} | Name : {NAME} | ALL test cases passed.\")\n",
        "            print(\"====\"*20)\n",
        "        else:\n",
        "            print(f\"ID : {ID} | Name : {NAME} | ALL test cases Failed.\")\n",
        "            print(\"====\"*20)\n",
        "    \n",
        "if __name__ == \"__main__\":\n",
        "    tester = testApproach()\n",
        "    #tester.testBOW()"
      ],
      "metadata": {
        "colab": {
          "base_uri": "https://localhost:8080/"
        },
        "id": "6oN7jp2AHkcU",
        "outputId": "06730ad2-fc1e-4b3f-83af-9eac57673350"
      },
      "execution_count": 25,
      "outputs": [
        {
          "output_type": "stream",
          "name": "stdout",
          "text": [
            "i:  0\n",
            "i:  1\n",
            "i:  2\n",
            "i:  3\n",
            "{'this', 'document', 'not', 'processed', 'is', 'a'}\n",
            "ID : 1191609 | Name : Sama Samrin | ALL test cases Failed.\n",
            "================================================================================\n"
          ]
        }
      ]
    },
    {
      "cell_type": "markdown",
      "source": [
        "#**My Attempts**"
      ],
      "metadata": {
        "id": "dEMQ-ddHsoqG"
      }
    },
    {
      "cell_type": "markdown",
      "source": [
        "##Creating Vocab"
      ],
      "metadata": {
        "id": "YUJHGUhAszy2"
      }
    },
    {
      "cell_type": "code",
      "source": [
        "corpus = [[\"this\", \"is\", \"a\", \"document\"], [\"this\", \"is\", \"a\", \"processed\", \"document\"], [\"is\", \"this\", \"a\", \"document\"], [\"this\", \"is\", \"not\", \"a\", \"document\"]]\n",
        "words = set()\n",
        "\n",
        "for i in range(len(corpus)):\n",
        "  print(\"i: \", i)\n",
        "  for j in range(len(corpus[i])):\n",
        "    x = corpus[i][j-1].split()\n",
        "    for k in range(len(x)):\n",
        "     if x[k] not in words:\n",
        "      words.add(x[k])\n",
        "\n",
        "print(words)"
      ],
      "metadata": {
        "colab": {
          "base_uri": "https://localhost:8080/"
        },
        "id": "7FUjPbuwgSHs",
        "outputId": "8dd73e22-8ce1-42a6-a3da-aa4e59c7372d"
      },
      "execution_count": 36,
      "outputs": [
        {
          "output_type": "stream",
          "name": "stdout",
          "text": [
            "i:  0\n",
            "i:  1\n",
            "i:  2\n",
            "i:  3\n",
            "{'this', 'document', 'not', 'processed', 'is', 'a'}\n"
          ]
        }
      ]
    },
    {
      "cell_type": "code",
      "source": [],
      "metadata": {
        "id": "x_V2yWgkFGCY"
      },
      "execution_count": 30,
      "outputs": []
    },
    {
      "cell_type": "code",
      "source": [
        "for i in range(len(corpus)):\n",
        "  print(\"i: \", i, \", corpus[i] : \", corpus[i], \", len(corpus[i]) : \", len(corpus[i]))\n",
        "  for j in range(0,len(corpus[i])):\n",
        "    print\n",
        "    print(\"i=\", i, \" j=\", j, \" corpus[i][j]= \", corpus[i][j])"
      ],
      "metadata": {
        "colab": {
          "base_uri": "https://localhost:8080/"
        },
        "id": "HvCpP-EoFNRH",
        "outputId": "7d7bc915-113c-42c7-f5de-4104e26f18f8"
      },
      "execution_count": 31,
      "outputs": [
        {
          "output_type": "stream",
          "name": "stdout",
          "text": [
            "i:  0 , corpus[i] :  ['this is a document'] , len(corpus[i]) :  1\n",
            "i= 0  j= 0  corpus[i][j]=  this is a document\n",
            "i:  1 , corpus[i] :  ['this is a processed document'] , len(corpus[i]) :  1\n",
            "i= 1  j= 0  corpus[i][j]=  this is a processed document\n",
            "i:  2 , corpus[i] :  ['is this a document'] , len(corpus[i]) :  1\n",
            "i= 2  j= 0  corpus[i][j]=  is this a document\n",
            "i:  3 , corpus[i] :  ['this is not a document'] , len(corpus[i]) :  1\n",
            "i= 3  j= 0  corpus[i][j]=  this is not a document\n"
          ]
        }
      ]
    },
    {
      "cell_type": "markdown",
      "source": [
        "## Create index map"
      ],
      "metadata": {
        "id": "VKIWhngjs-c8"
      }
    },
    {
      "cell_type": "code",
      "source": [
        "\"\"\"Method to map every word to its index in the vocabulary\n",
        "        Hint: Iterate over the vocabulary and store them in word_to_index\n",
        "        \"\"\"\n",
        "#word_to_index = dict.fromkeys(words) #empty dictionary\n",
        "word_to_index = dict.fromkeys(words)\n",
        "count = 0\n",
        "\n",
        "for i in words:\n",
        "  word_to_index[i] = count\n",
        "  count +=1\n",
        "  #print(i, count-1)\n",
        "\n",
        "\"\"\"for word in words:\n",
        "  #print(word)\n",
        "  count = 0\n",
        "  for i in range(len(corpus)):\n",
        "      if word in corpus[i]:\n",
        "       count+=1\n",
        "  print(word, \" : \", count)\n",
        "  word_to_index[word] = count\n",
        "\"\"\"\n",
        "print(word_to_index)"
      ],
      "metadata": {
        "colab": {
          "base_uri": "https://localhost:8080/"
        },
        "id": "jk6IEMIist08",
        "outputId": "7703a35a-0101-4c53-f9c0-be1ed4166cd5"
      },
      "execution_count": 32,
      "outputs": [
        {
          "output_type": "stream",
          "name": "stdout",
          "text": [
            "{'this': 0, 'document': 1, 'not': 2, 'processed': 3, 'is': 4, 'a': 5}\n"
          ]
        }
      ]
    },
    {
      "cell_type": "markdown",
      "source": [
        "##Vectorization"
      ],
      "metadata": {
        "id": "IB-J8gXJ0okV"
      }
    },
    {
      "cell_type": "code",
      "source": [
        "#def bow(self, input_sent: List[str]) -> np.ndarray:\n",
        "\"\"\"Method which accepts input_sent of the form : [\"is\", \"this\", \"a\", \"sent\"].\n",
        "        Task:\n",
        "            Implement the bag of words approach for the above input. \n",
        "            This function should return a vector of counts for the given inputs.\n",
        "            The output shape of the vector should be 1 x len(self.vocab)\n",
        "            The output should be a numpy array\n",
        "            Example:\n",
        "                length of vocabulary = 10\n",
        "                input_sent = [\"is\", \"this\", \"a\", \"sent\"]\n",
        "                The method should return a vector of shape 1 x 10.\n",
        "pass\"\"\"\n",
        "\n",
        "\n",
        "vector_shape = (1, len(words))\n",
        "vector = np.zeros(vector_shape, dtype=int)\n",
        "print(vector)\n",
        "\n",
        "input_sent = np.array([\"is\", \"this\", \"a\", \"sent\"])\n",
        "\n",
        "for i in input_sent:\n",
        "  if i not in words:\n",
        "    input_index = np.where(input_sent == i)\n",
        "    print(\"OOV error with the word: \", i, \" at \", input_index[0])\n",
        "  elif i in word_to_index:\n",
        "    input_index = np.where(input_sent == i)\n",
        "    indx = word_to_index[i]\n",
        "    #print(vector[0][indx])\n",
        "    vector[0][indx] += 1\n",
        "\n",
        "\"\"\"for i in word_to_index:\n",
        "  if i not in words:\n",
        "    print(\"OOV error\")\n",
        "  elif i in input_sent:\n",
        "    indx = word_to_index[i]\n",
        "    #print(vector[0][indx])\n",
        "    vector[0][indx] += 1\"\"\"\n",
        "  #print(i, word_to_index[i], indx)\n",
        "print(words)\n",
        "print(vector)"
      ],
      "metadata": {
        "colab": {
          "base_uri": "https://localhost:8080/"
        },
        "id": "SNTjrPu80zKN",
        "outputId": "b6513af7-5b16-465e-eed9-9679d046aceb"
      },
      "execution_count": 33,
      "outputs": [
        {
          "output_type": "stream",
          "name": "stdout",
          "text": [
            "[[0 0 0 0 0 0]]\n",
            "OOV error with the word:  sent  at  [3]\n",
            "{'this', 'document', 'not', 'processed', 'is', 'a'}\n",
            "[[1 0 0 0 1 1]]\n"
          ]
        }
      ]
    },
    {
      "cell_type": "markdown",
      "source": [
        "## Final method/work"
      ],
      "metadata": {
        "id": "LuVUQeFE0y8E"
      }
    },
    {
      "cell_type": "code",
      "source": [],
      "metadata": {
        "id": "DK7feAPUCVjY"
      },
      "execution_count": 33,
      "outputs": []
    },
    {
      "cell_type": "markdown",
      "source": [
        "\n",
        "\n",
        "---\n",
        "\n"
      ],
      "metadata": {
        "id": "xcduv921wfw2"
      }
    },
    {
      "cell_type": "markdown",
      "source": [
        "#Others"
      ],
      "metadata": {
        "id": "bvpD_LJV0qr_"
      }
    },
    {
      "cell_type": "code",
      "source": [
        "original_corpus = [\"this is a document\", \"this is a processed document\", \"is this a document\", \"this is not a document\"]\n",
        "x = CountVectorizer().fit_transform(original_corpus)\n",
        "print(x)\n",
        "\n",
        "sklearn_output = x.toarray()\n",
        "\n",
        "print(sklearn_output)"
      ],
      "metadata": {
        "colab": {
          "base_uri": "https://localhost:8080/"
        },
        "id": "HKO0WxorntJ8",
        "outputId": "8e175a93-882f-442a-cdbd-239c23c8b21d"
      },
      "execution_count": null,
      "outputs": [
        {
          "output_type": "stream",
          "name": "stdout",
          "text": [
            "  (0, 4)\t1\n",
            "  (0, 1)\t1\n",
            "  (0, 0)\t1\n",
            "  (1, 4)\t1\n",
            "  (1, 1)\t1\n",
            "  (1, 0)\t1\n",
            "  (1, 3)\t1\n",
            "  (2, 4)\t1\n",
            "  (2, 1)\t1\n",
            "  (2, 0)\t1\n",
            "  (3, 4)\t1\n",
            "  (3, 1)\t1\n",
            "  (3, 0)\t1\n",
            "  (3, 2)\t1\n",
            "[[1 1 0 0 1]\n",
            " [1 1 0 1 1]\n",
            " [1 1 0 0 1]\n",
            " [1 1 1 0 1]]\n"
          ]
        }
      ]
    },
    {
      "cell_type": "markdown",
      "source": [
        "#**Testing**"
      ],
      "metadata": {
        "id": "fSC3lLVymsqE"
      }
    },
    {
      "cell_type": "code",
      "source": [
        "#Do not modify code below this. If this modified you will be given straight away 0.\n",
        "class testApproach:\n",
        "    def __init__(self):\n",
        "        self.original_corpus = [\"this is a document\", \"this is a processed document\", \"is this a document\", \"This is not a document\"]\n",
        "        self.corpus = self.process(self.original_corpus)\n",
        "        self.sklearn_bow = CountVectorizer()\n",
        "        self.custom_bow = CustomBagOfWords(self.corpus)\n",
        "\n",
        "    def process(self, corpus):\n",
        "        corpus = [x.lower() for x in corpus]\n",
        "        return [x.split() for x in corpus]\n",
        "    \n",
        "    def testBOW(self):\n",
        "        sklearn_output = self.sklearn_bow.fit_transform(self.original_corpus).toarray()\n",
        "        custom_output = self.custom_bow.create_vector()\n",
        "        \n",
        "        try:\n",
        "            is_correct = np.allclose(sklearn_output, custom_output) \n",
        "        except:\n",
        "            is_correct = False\n",
        "        if is_correct is True:\n",
        "            print(f\"ID : {ID} | Name : {NAME} | ALL test cases passed.\")\n",
        "            print(\"====\"*20)\n",
        "        else:\n",
        "            print(f\"ID : {ID} | Name : {NAME} | ALL test cases Failed.\")\n",
        "            print(\"====\"*20)\n",
        "    \n",
        "if __name__ == \"__main__\":\n",
        "    tester = testApproach()\n",
        "    tester.testBOW()"
      ],
      "metadata": {
        "colab": {
          "base_uri": "https://localhost:8080/"
        },
        "id": "6BDJAKNTl1lT",
        "outputId": "f50b7d5c-f122-4f50-fc9e-c146c2eb88f3"
      },
      "execution_count": null,
      "outputs": [
        {
          "output_type": "stream",
          "name": "stdout",
          "text": [
            "ID : 1191609 | Name : Sama Samrin | ALL test cases Failed.\n",
            "================================================================================\n"
          ]
        }
      ]
    }
  ]
}